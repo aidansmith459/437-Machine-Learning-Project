{
  "nbformat": 4,
  "nbformat_minor": 0,
  "metadata": {
    "colab": {
      "provenance": []
    },
    "kernelspec": {
      "name": "python3",
      "display_name": "Python 3"
    },
    "language_info": {
      "name": "python"
    }
  },
  "cells": [
    {
      "cell_type": "markdown",
      "source": [
        "Before starting, make sure you import the dataset into google colab by pressing the file button on the left and selecting mergedFile.csv\n",
        "\n",
        "That file can be downloaded here: https://drive.google.com/file/d/1IVWERcgPYE7YzwltaqrDJAW8VDo2rNcp/view?usp=sharing\n",
        "\n",
        "Demo and presentation video: https://drive.google.com/file/d/10nr94PDvFLBCVJ3Z-7tShI3FiYYLRd_I/view?usp=sharing"
      ],
      "metadata": {
        "id": "DoWoDv3Co9s7"
      }
    },
    {
      "cell_type": "code",
      "execution_count": null,
      "metadata": {
        "id": "0kINPOEoBntH"
      },
      "outputs": [],
      "source": [
        "#import essential libraries\n",
        "from sklearn.linear_model import Ridge\n",
        "from sklearn.linear_model import Lasso\n",
        "from sklearn.model_selection import train_test_split\n",
        "from sklearn.metrics import mean_squared_error\n",
        "from sklearn.preprocessing import StandardScaler\n",
        "import pandas as pd\n",
        "import numpy as np\n"
      ]
    },
    {
      "cell_type": "code",
      "source": [
        "# get data from file\n",
        "dataset = pd.read_csv(\"mergedFile.csv\")\n",
        "dataset.dropna(inplace = True)\n",
        "\n",
        "#X is weather inputs, splitting into 3 different sized datasets in order to see how well the different models react to different sets of data\n",
        "X0 = dataset[['temp', 'windspeed', 'feelslike']]\n",
        "X1 = dataset[['temp', 'windspeed', 'feelslike', 'humidity']]\n",
        "X2 = dataset[['temp', 'windspeed', 'feelslike', 'humidity', 'precip', 'windspeed']]\n",
        "#we could take multiple y's and create different models on each one, but total is most important\n",
        "y = dataset['GlobalActivePower']"
      ],
      "metadata": {
        "id": "BcKGByyjkTq3"
      },
      "execution_count": null,
      "outputs": []
    },
    {
      "cell_type": "markdown",
      "source": [
        "After succesfully loading the data, now you can perform the train/test split and then scale the data so that it is ready for the regression models."
      ],
      "metadata": {
        "id": "0DWfo22nqOnZ"
      }
    },
    {
      "cell_type": "code",
      "source": [
        "#Split the data into training / test splits\n",
        "X_train0, X_test0, y_train0, y_test0 = train_test_split(X0, y, test_size=0.2, random_state=11)\n",
        "X_train1, X_test1, y_train1, y_test1 = train_test_split(X1, y, test_size=0.2, random_state=11)\n",
        "X_train2, X_test2, y_train2, y_test2 = train_test_split(X2, y, test_size=0.2, random_state=11)\n",
        "\n",
        "#Scale the features\n",
        "scaler0 = StandardScaler()\n",
        "X_train_scaled0 = scaler0.fit_transform(X_train0)\n",
        "X_test_scaled0 = scaler0.transform(X_test0)\n",
        "\n",
        "scaler1 = StandardScaler()\n",
        "X_train_scaled1 = scaler1.fit_transform(X_train1)\n",
        "X_test_scaled1 = scaler1.transform(X_test1)\n",
        "\n",
        "scaler2 = StandardScaler()\n",
        "X_train_scaled2 = scaler2.fit_transform(X_train2)\n",
        "X_test_scaled2 = scaler2.transform(X_test2)\n"
      ],
      "metadata": {
        "id": "-LUd6-Ldk_H1"
      },
      "execution_count": null,
      "outputs": []
    },
    {
      "cell_type": "markdown",
      "source": [
        "The block below performs the ridge regression. After its done, it outputs the RMSE for each predictor set along with the coefficients that it determined for each predictor.\n",
        "\n",
        "If curious, you can change the alpha values which affects the learning rate"
      ],
      "metadata": {
        "id": "bPk0dTv3qbUj"
      }
    },
    {
      "cell_type": "code",
      "source": [
        "#0 small dataset\n",
        "ridge0 = Ridge(alpha=0.01)    #alpha is the regularization strength, we can change this as needed\n",
        "\n",
        "ridge0.fit(X_train_scaled0, y_train0)\n",
        "\n",
        "y_pred0 = ridge0.predict(X_test_scaled0)\n",
        "\n",
        "#1 medium dataset\n",
        "ridge1 = Ridge(alpha=0.01)\n",
        "\n",
        "ridge1.fit(X_train_scaled1, y_train1)\n",
        "\n",
        "y_pred1 = ridge1.predict(X_test_scaled1)\n",
        "\n",
        "#2 large dataset\n",
        "ridge2 = Ridge(alpha=0.01)\n",
        "\n",
        "ridge2.fit(X_train_scaled2, y_train2)\n",
        "\n",
        "y_pred2 = ridge2.predict(X_test_scaled2)\n",
        "\n",
        "#find RMSE\n",
        "rmse0 = np.sqrt(mean_squared_error(y_test0, y_pred0))\n",
        "rmse1 = np.sqrt(mean_squared_error(y_test1, y_pred1))\n",
        "rmse2 = np.sqrt(mean_squared_error(y_test2, y_pred2))\n",
        "print(\"RMSE0: \", rmse0)\n",
        "print(\"RMSE1: \", rmse1)\n",
        "print(\"RMSE2: \", rmse2)\n",
        "\n",
        "#print the coefficients for each predictor\n",
        "print(\"\\n [temp, windspeed, feelslike]\\n\", ridge0.coef_)\n",
        "\n",
        "print(\"\\n ['temp', 'windspeed', 'feelslike', 'humidity']\\n\", ridge1.coef_)\n",
        "\n",
        "print(\"\\n ['temp', 'windspeed', 'feelslike', 'humidity', 'precip', 'windspeed']\\n\", ridge2.coef_)"
      ],
      "metadata": {
        "id": "_-Bqojonod8L",
        "colab": {
          "base_uri": "https://localhost:8080/"
        },
        "outputId": "748d425f-5e17-4a46-f854-0d8554b3dbe6"
      },
      "execution_count": null,
      "outputs": [
        {
          "output_type": "stream",
          "name": "stdout",
          "text": [
            "RMSE0:  51.78426523707939\n",
            "RMSE1:  51.78538838731269\n",
            "RMSE2:  51.775649807365\n",
            "\n",
            " [temp, windspeed, feelslike]\n",
            " [-14.90301928   2.32341238   1.24845071]\n",
            "\n",
            " ['temp', 'windspeed', 'feelslike', 'humidity']\n",
            " [-12.60148844   2.37009581  -0.44911697   1.14499342]\n",
            "\n",
            " ['temp', 'windspeed', 'feelslike', 'humidity', 'precip', 'windspeed']\n",
            " [-12.40893367   1.21858853  -0.53020171   1.33637422  -0.86424023\n",
            "   1.21858853]\n"
          ]
        }
      ]
    },
    {
      "cell_type": "markdown",
      "source": [
        "The block below performs the lasso regression. After it's done, it will print the RMSE as well as the coefficients for each variable.\n",
        "\n",
        "Similar to ridge regression, the alpha can also be changed here for limited effect."
      ],
      "metadata": {
        "id": "6LGkeRH2rnJd"
      }
    },
    {
      "cell_type": "code",
      "source": [
        "#perform lasso regression\n",
        "lasso0 = Lasso(alpha=0.01)\n",
        "lasso0.fit(X_train_scaled0, y_train0)\n",
        "y_predLasso0 = lasso0.predict(X_test_scaled0)\n",
        "\n",
        "lasso2 = Lasso(alpha=0.01)\n",
        "lasso2.fit(X_train_scaled2, y_train2)\n",
        "y_predLasso2 = lasso2.predict(X_test_scaled2)\n",
        "\n",
        "#print results\n",
        "print(\"RMSE0: \",np.sqrt(mean_squared_error(y_test0, y_predLasso0)))\n",
        "print(\"['temp', 'windspeed', 'feelslike']\\n\", lasso0.coef_)\n",
        "\n",
        "print(\"\\n\")\n",
        "print(\"RMSE2\", np.sqrt(mean_squared_error(y_test2, y_predLasso2)))\n",
        "print(\"['temp', 'windspeed', 'feelslike', 'humidity', 'precip', 'windspeed']\\n\", lasso2.coef_)"
      ],
      "metadata": {
        "colab": {
          "base_uri": "https://localhost:8080/"
        },
        "id": "EMSwoNeEHmZS",
        "outputId": "e5bbf2ef-8ef4-4bd5-c808-3e84551416e2"
      },
      "execution_count": null,
      "outputs": [
        {
          "output_type": "stream",
          "name": "stdout",
          "text": [
            "RMSE0:  51.78474971568032\n",
            "['temp', 'windspeed', 'feelslike']\n",
            " [-13.65483375   2.2486321    0.        ]\n",
            "\n",
            "\n",
            "RMSE2 51.77553991437759\n",
            "['temp', 'windspeed', 'feelslike', 'humidity', 'precip', 'windspeed']\n",
            " [-12.48691594   2.26107685  -0.45062647   1.32230615  -0.85181616\n",
            "   0.16797043]\n"
          ]
        }
      ]
    }
  ]
}